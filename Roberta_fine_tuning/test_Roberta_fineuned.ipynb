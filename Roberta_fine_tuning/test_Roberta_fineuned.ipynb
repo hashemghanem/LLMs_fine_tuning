{
 "cells": [
  {
   "cell_type": "markdown",
   "metadata": {},
   "source": [
    "### Replace the addressbelow with your own Hugging Face username and repository name\n",
    "Below, change \n",
    "```python\n",
    "\"Hghanem96/autotrain-0vte7-r5biv\"\n",
    "```\n",
    "to\n",
    "```python\n",
    "\"your-username/your-repo-name\"\n",
    "```"
   ]
  },
  {
   "cell_type": "code",
   "execution_count": null,
   "metadata": {
    "vscode": {
     "languageId": "plaintext"
    }
   },
   "outputs": [],
   "source": [
    "from transformers import AutoTokenizer, AutoModelForSequenceClassification, pipeline\n",
    "\n",
    "# Load the tokenizer and model\n",
    "model_name= \"Hghanem96/autotrain-0vte7-r5biv\"\n",
    "tokenizer = AutoTokenizer.from_pretrained(model_name)\n",
    "model = AutoModelForSequenceClassification.from_pretrained(model_name)\n",
    "\n",
    "# Create a sentiment analysis pipeline\n",
    "sentiment_pipeline = pipeline(\"sentiment-analysis\", model=model, tokenizer=tokenizer)\n",
    "\n",
    "# Input phrase\n",
    "text = \"I love you\"\n",
    "\n",
    "# Get sentiment analysis result\n",
    "result = sentiment_pipeline(text)\n",
    "\n",
    "# Print the result\n",
    "print(f\"Text: {text}\")\n",
    "print(f\"Sentiment: {result[0]['label']}\")\n",
    "print(f\"Confidence: {result[0]['score']:.2f}\")\n"
   ]
  }
 ],
 "metadata": {
  "language_info": {
   "name": "python"
  }
 },
 "nbformat": 4,
 "nbformat_minor": 2
}
