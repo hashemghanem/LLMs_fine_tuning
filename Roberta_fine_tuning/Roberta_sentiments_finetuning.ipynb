{
 "cells": [
  {
   "cell_type": "markdown",
   "metadata": {},
   "source": [
    "- **Youtube how to finetuning Roberta on custom data** https://www.youtube.com/watch?v=g-_lw944edU&ab_channel=SuperLazyCoder"
   ]
  },
  {
   "cell_type": "markdown",
   "metadata": {},
   "source": []
  }
 ],
 "metadata": {
  "language_info": {
   "name": "python"
  }
 },
 "nbformat": 4,
 "nbformat_minor": 2
}
